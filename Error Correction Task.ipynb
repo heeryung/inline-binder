{
 "cells": [
  {
   "cell_type": "markdown",
   "metadata": {
    "deletable": false,
    "description": "DLS version 2",
    "editable": false,
    "hideCode": false,
    "hidePrompt": false,
    "license": "CC0",
    "mentor_academy_cell_type": "question_description",
    "name": "Error Correction Task",
    "nbgrader": {
     "checksum": "e1a7fcfaad62709518587d7a5da3115b",
     "grade": false,
     "grade_id": "cell-49bf3dc0b4ad8fe1",
     "locked": true,
     "schema_version": 1,
     "solution": false
    },
    "partlist_id": "lbwpkbzd",
    "publish_status": "published",
    "question_id": "umxrhsam",
    "submit": "yes",
    "type": "prologue"
   },
   "source": [
    "# Error Correction Tasks\n",
    "\n",
    "While working on the tasks, you can use hint buttons when you need. \n",
    "Let's start with loading the library we need."
   ]
  },
  {
   "cell_type": "code",
   "execution_count": null,
   "metadata": {
    "hideCode": false,
    "hidePrompt": false,
    "mentor_academy_cell_type": "question_code",
    "question_id": "umxrhsam",
    "type": "stub"
   },
   "outputs": [],
   "source": [
    "import re"
   ]
  },
  {
   "cell_type": "markdown",
   "metadata": {
    "deletable": false,
    "editable": false,
    "if_hint":false,
    "hideCode": false,
    "hidePrompt": false,
    "mentor_academy_cell_type": "part_description",
    "nbgrader": {
     "checksum": "6aaccb3e6e354391e5010496f2bdbed4",
     "grade": false,
     "grade_id": "cell-358511f1db5198f1",
     "locked": true,
     "schema_version": 1,
     "solution": false
    },
    "part_id": "fyhrwlzq",
    "part_order": 1,
    "type": "stub"
   },
   "source": [
    "### Part 1: names\n",
    "\n",
    "Fix the incorrect regex between `### BEGIN CODE` and `### END CODE` to generate a list of names in the `simple_string`. \n"
   ]
  },
  {
   "cell_type": "code",
   "execution_count": null,
   "metadata": {
    "if_hint":true,
    "deletable": false,
    "hideCode": false,
    "hidePrompt": false,
    "mentor_academy_cell_type": "part_student_solution_code",
    "nbgrader": {
     "checksum": "00109a78bae66094e83dc57fe44b50ae",
     "grade": false,
     "grade_id": "cell-cd1f2c2305c67969",
     "locked": false,
     "schema_version": 1,
     "solution": true
    },
    "part_id": "fyhrwlzq",
    "part_order": 1,
    "type": "stub"
   },
   "outputs": [],
   "source": [
    "def names():\n",
    "    simple_string = \"\"\"Amy is 5 years old, and her sister Mary is 2 years old. \n",
    "    Ruth and Peter, their parents, have 3 kids.\"\"\"\n",
    "    \n",
    "    ### BEGIN CODE  \n",
    "    pattern = r'[A-Za-z]?'\n",
    "    match = re.finditer(pattern, simple_string)\n",
    "    ### END CODE  \n",
    "    \n",
    "    return match\n",
    "    \n",
    "names()\n"
   ]
  },
  {
   "cell_type": "code",
   "execution_count": null,
   "metadata": {
    "deletable": false,
    "editable": false,
    "hideCode": true,
    "hidePrompt": false,
    "mentor_academy_cell_type": "part_sample_solution_code",
    "nbgrader": {
     "checksum": "bbd817e81f9d171e528a0479de588aae",
     "grade": true,
     "grade_id": "cell-63f4a293248d9fc4",
     "locked": true,
     "points": 1,
     "schema_version": 1,
     "solution": false
    },
    "part_id": "fyhrwlzq",
    "part_order": 1,
    "solution": "True",
    "type": "stub"
   },
   "outputs": [],
   "source": [
    "### Please do not type anything in this cell.\n",
    "assert len(names()) == 4, \"There are four names in the simple_string\"\n",
    "assert ((len(names()[0])>2)&(len(names()[0])>2)&(len(names()[0])>2)&(len(names()[0])>2)) == True, \"Please match all the characters in these names.\"\n",
    "assert ('Amy' in names())== True\n",
    "assert ('Mary' in names())== True\n",
    "assert ('Ruth' in names())== True\n",
    "assert ('Peter' in names())== True   "
   ]
  },
  {
   "cell_type": "markdown",
   "metadata": {
    "deletable": false,
    "editable": false,
    "hideCode": false,
    "hidePrompt": false,
    "mentor_academy_cell_type": "part_description",
    "nbgrader": {
     "checksum": "4042e303efc5851ac819948de2f2c74d",
     "grade": false,
     "grade_id": "cell-11debfb6f8648896",
     "locked": true,
     "schema_version": 1,
     "solution": false
    },
    "part_id": "ufxqepry",
    "part_order": 2,
    "type": "stub"
   },
   "source": [
    "### Part 2: student grades\n",
    "The dataset file in assets/grades.txt contains multiple lines of people along with their grades in a class. Fix the incorrect regex between `### BEGIN CODE` and `### END CODE` to generate a list of just those students who received a B in the course (e.g., \\[\\'John Doe\\', \\'Jane Doe\\'\\].)\n"
   ]
  },
  {
   "cell_type": "code",
   "execution_count": null,
   "metadata": {
    "deletable": false,
    "if_hint":true,
    "hideCode": false,
    "hidePrompt": false,
    "mentor_academy_cell_type": "part_student_solution_code",
    "nbgrader": {
     "checksum": "c0be0b1e2b1cfeb43b4a747be8a1547a",
     "grade": false,
     "grade_id": "cell-502b6909ba954684",
     "locked": false,
     "schema_version": 1,
     "solution": true
    },
    "part_id": "ufxqepry",
    "part_order": 2,
    "type": "stub"
   },
   "outputs": [],
   "source": [
    "def student_grades():\n",
    "    with open (\"assets/grades.txt\", \"r\") as file:\n",
    "        grades = file.read()\n",
    "    print(grades)\n",
    "\n",
    "    ### BEGIN CODE\n",
    "    pattern = \"\"\"(\\w+)\"\"\"\n",
    "    matches = re.findall(pattern,grades)\n",
    "    ### END CODE\n",
    "        \n",
    "\n",
    "    return matches  \n",
    "    \n",
    "student_grades()\n"
   ]
  },
  {
   "cell_type": "code",
   "execution_count": null,
   "metadata": {
    "deletable": false,
    "editable": false,
    "hideCode": true,
    "hidePrompt": false,
    "mentor_academy_cell_type": "part_sample_solution_code",
    "nbgrader": {
     "checksum": "bd1c8ab3398a2dd62c8e4107972eda24",
     "grade": true,
     "grade_id": "cell-d10f969e2fecfe9b",
     "locked": true,
     "points": 1,
     "schema_version": 1,
     "solution": false
    },
    "part_id": "ufxqepry",
    "part_order": 2,
    "solution": "True",
    "type": "stub"
   },
   "outputs": [],
   "source": [
    "### Please do not type anything in this cell.\n",
    "assert len(student_grades()) == 16\n",
    "name_list = ['Bell Kassulke',\n",
    " 'Simon Loidl',\n",
    " 'Elias Jovanovic',\n",
    " 'Hakim Botros',\n",
    " 'Emilie Lorentsen',\n",
    " 'Jake Wood',\n",
    " 'Fatemeh Akhtar',\n",
    " 'Kim Weston',\n",
    " 'Yasmin Dar',\n",
    " 'Viswamitra Upandhye',\n",
    " 'Killian Kaufman',\n",
    " 'Elwood Page',\n",
    " 'Elodie Booker',\n",
    " 'Adnan Chen',\n",
    " 'Hank Spinka',\n",
    " 'Hannah Bayer']\n",
    "\n",
    "assert (': B' in student_grades()[1]) == False, \"Please only return student names.\"\n",
    "assert ('Kassulke' in student_grades()) == False, \"Please return students' full name.\"\n",
    "for name in name_list:\n",
    "    assert (name in student_grades())== True, \"Check your name list.\"\n"
   ]
  },
  {
   "cell_type": "markdown",
   "metadata": {
    "deletable": false,
    "editable": false,
    "if_hint": false,
    "hideCode": false,
    "hidePrompt": false,
    "mentor_academy_cell_type": "part_description",
    "nbgrader": {
     "checksum": "6dbef314901a61eb3340ccac1c385d6f",
     "grade": false,
     "grade_id": "cell-7b841001eec6839f",
     "locked": true,
     "schema_version": 1,
     "solution": false
    },
    "part_id": "zjtbkdyb",
    "part_order": 3,
    "type": "stub"
   },
   "source": [
    "### Part 3: logs\n",
    "Consider the variable 'logdata' which is a string containing a standard web log. This variable records the access a user makes when visiting a web page (like this one!). Each line of the log has the following items: \n",
    "\n",
    "* a host (e.g., ‘146.204.224.152’) \n",
    "* a username (e.g., ‘feest6811’ or sometime '-' since it is missing) \n",
    "* the time a request was made (e.g., ‘21/Jun/2019:15:45:24 -0700’) \n",
    "* the post request type (e.g., ‘POST /incentivize HTTP/1.1’)\n",
    "\n",
    "Your task is to fix the incorrect regex between `### BEGIN CODE` and `### END CODE` to convert the given data into a list of dictionaries, where each dictionary looks like the following:\n",
    "\n",
    "```\n",
    "example_dict = {\"host\":\"146.204.224.152\",\n",
    "                \"user_name\":\"feest6811\",\n",
    "                \"time\":\"21/Jun/2019:15:45:24 -0700\",\n",
    "                \"request\":\"POST /incentivize HTTP/1.1\"}\n",
    "```"
   ]
  },
  {
   "cell_type": "code",
   "execution_count": null,
   "metadata": {
    "deletable": false,
    "if_hint": true,
    "hideCode": false,
    "hidePrompt": false,
    "mentor_academy_cell_type": "part_student_solution_code",
    "nbgrader": {
     "checksum": "fa4d0b710b4800aeb7fa3bd36954a191",
     "grade": false,
     "grade_id": "cell-c683944a925bd526",
     "locked": false,
     "schema_version": 1,
     "solution": true
    },
    "part_id": "zjtbkdyb",
    "part_order": 3,
    "type": "stub"
   },
   "outputs": [],
   "source": [
    "import re\n",
    "def logs():\n",
    "    with open(\"assets/logdata.txt\", \"r\") as file:\n",
    "        logdata = file.read()\n",
    "    print(logdata)\n",
    "    \n",
    "        \n",
    "    ### BEGIN CODE    \n",
    "    pattern = \"\"\"\n",
    "        ([.]+)                       # host %h\n",
    "        \\s\\-\\s(.+)\\s                 # user %u\n",
    "        \\[(.+)\\]                     # time %t\n",
    "        \\s\\\"(\\w\\.+)\\\"                # request %r\n",
    "    \"\"\"\n",
    "    result = [item.groupdict() for item in re.findall(pattern,logdata,re.VERBOSE)]\n",
    "\n",
    "    ### END CODE\n",
    "    \n",
    "\n",
    "    return result\n",
    "\n",
    "logs()"
   ]
  },
  {
   "cell_type": "code",
   "execution_count": null,
   "metadata": {
    "deletable": false,
    "editable": false,
    "hideCode": true,
    "hidePrompt": false,
    "mentor_academy_cell_type": "part_sample_solution_code",
    "nbgrader": {
     "checksum": "41d4ed95a82883a97ca75908a06c1c09",
     "grade": true,
     "grade_id": "cell-b19c6eeaa4c39fb7",
     "locked": true,
     "points": 1,
     "schema_version": 1,
     "solution": false
    },
    "part_id": "zjtbkdyb",
    "part_order": 3,
    "solution": "True",
    "type": "stub"
   },
   "outputs": [],
   "source": [
    "### Please do not type anything in this cell.\n",
    "assert len(logs()) == 979\n",
    "\n",
    "one_item={'host': '146.204.224.152',\n",
    "  'user_name': 'feest6811',\n",
    "  'time': '21/Jun/2019:15:45:24 -0700',\n",
    "  'request': 'POST /incentivize HTTP/1.1'}\n",
    "assert one_item in logs(), \"Sorry, this item should be in the log results, check your formating\"\n",
    "\n",
    "assert len(logs()[0:1][0])==4, \"Make sure that each of your dictionary is in the right format. \"\n",
    "\n",
    "tmp3 = [{'host': '146.204.224.152',\n",
    "  'user_name': 'feest6811',\n",
    "  'time': '21/Jun/2019:15:45:24 -0700',\n",
    "  'request': 'POST /incentivize HTTP/1.1'},\n",
    " {'host': '98.143.107.61',\n",
    "  'user_name': 'reilly5813',\n",
    "  'time': '21/Jun/2019:15:54:04 -0700',\n",
    "  'request': 'HEAD /channels HTTP/1.1'},\n",
    " {'host': '93.88.34.132',\n",
    "  'user_name': '-',\n",
    "  'time': '21/Jun/2019:15:49:04 -0700',\n",
    "  'request': 'POST /24%2f365 HTTP/2.0'},\n",
    " {'host': '100.32.205.59',\n",
    "  'user_name': 'ortiz8891',\n",
    "  'time': '21/Jun/2019:15:45:28 -0700',\n",
    "  'request': 'PATCH /architectures HTTP/1.0'},\n",
    " {'host': '168.95.156.240',\n",
    "  'user_name': 'stark2413',\n",
    "  'time': '21/Jun/2019:15:45:31 -0700',\n",
    "  'request': 'GET /engage HTTP/2.0'},\n",
    " {'host': '72.157.89.10',\n",
    "  'user_name': '-',\n",
    "  'time': '21/Jun/2019:15:47:14 -0700',\n",
    "  'request': 'PATCH /clicks-and-mortar/metrics HTTP/1.0'},\n",
    " {'host': '180.95.121.94',\n",
    "  'user_name': 'mohr6893',\n",
    "  'time': '21/Jun/2019:15:45:34 -0700',\n",
    "  'request': 'PATCH /extensible/reinvent HTTP/1.1'},\n",
    " {'host': '144.23.247.108',\n",
    "  'user_name': 'auer7552',\n",
    "  'time': '21/Jun/2019:15:45:35 -0700',\n",
    "  'request': 'POST /extensible/infrastructures/one-to-one/enterprise HTTP/1.1'},\n",
    " {'host': '180.234.185.134',\n",
    "  'user_name': 'windler5463',\n",
    "  'time': '21/Jun/2019:15:46:34 -0700',\n",
    "  'request': 'POST /synergies/innovative/enterprise HTTP/1.1'},\n",
    " {'host': '233.187.15.207',\n",
    "  'user_name': '-',\n",
    "  'time': '21/Jun/2019:15:46:14 -0700',\n",
    "  'request': 'GET /harness/intuitive HTTP/1.0'}]\n",
    "\n",
    "for dic in tmp3:\n",
    "    assert dic in logs(), \"Please include all the records\""
   ]
  }
 ],
 "metadata": {
  "anaconda-cloud": {},
  "hide_code_all_hidden": false,
  "kernelspec": {
   "display_name": "Python 3",
   "language": "python",
   "name": "python3"
  },
  "language_info": {
   "codemirror_mode": {
    "name": "ipython",
    "version": 3
   },
   "file_extension": ".py",
   "mimetype": "text/x-python",
   "name": "python",
   "nbconvert_exporter": "python",
   "pygments_lexer": "ipython3",
   "version": "3.7.3"
  },
  "umich": {
   "id": "Assignment 2",
   "version": "1.2",
   "submit": "yes"
  }
 },
 "nbformat": 4,
 "nbformat_minor": 1
}
